{
  "nbformat": 4,
  "nbformat_minor": 0,
  "metadata": {
    "colab": {
      "name": "Learning Python (Sprint 1).ipynb",
      "provenance": [],
      "collapsed_sections": []
    },
    "kernelspec": {
      "name": "python3",
      "display_name": "Python 3"
    },
    "language_info": {
      "name": "python"
    }
  },
  "cells": [
    {
      "cell_type": "code",
      "metadata": {
        "id": "MwwQ1B3caJdr"
      },
      "source": [
        "#Setting Variables\n",
        "n=0\n",
        "d=0.0\n",
        "c='c'\n",
        "s=\"String\""
      ],
      "execution_count": 103,
      "outputs": []
    },
    {
      "cell_type": "code",
      "metadata": {
        "colab": {
          "base_uri": "https://localhost:8080/"
        },
        "id": "33bDIvqab1PV",
        "outputId": "e4d3aed8-7734-401d-80b7-0131034f0a22"
      },
      "source": [
        "#printing\n",
        "print(n)\n",
        "print(d)\n",
        "print(c)\n",
        "print(s)"
      ],
      "execution_count": 104,
      "outputs": [
        {
          "output_type": "stream",
          "name": "stdout",
          "text": [
            "0\n",
            "0.0\n",
            "c\n",
            "String\n",
            "True\n"
          ]
        }
      ]
    },
    {
      "cell_type": "code",
      "metadata": {
        "colab": {
          "base_uri": "https://localhost:8080/"
        },
        "id": "qJMlE_iOb2En",
        "outputId": "6e0b1bb5-f8ee-4d12-e9c1-8a26876772b6"
      },
      "source": [
        "#arithmetic\n",
        "a=3\n",
        "b=2\n",
        "\n",
        "print(a+b)\n",
        "print(a-b)\n",
        "print(a*b)\n",
        "print(a/b)\n",
        "print(a%b)\n",
        "print(a**b)\n",
        "\n",
        "print()\n",
        "\n",
        "d=1\n",
        "print(d)\n",
        "d+=1\n",
        "print(d)"
      ],
      "execution_count": null,
      "outputs": [
        {
          "output_type": "stream",
          "name": "stdout",
          "text": [
            "5\n",
            "1\n",
            "6\n",
            "1.5\n",
            "1\n",
            "9\n",
            "\n",
            "1\n",
            "2\n"
          ]
        }
      ]
    },
    {
      "cell_type": "code",
      "metadata": {
        "colab": {
          "base_uri": "https://localhost:8080/"
        },
        "id": "mZkKeaIndvMD",
        "outputId": "7c2b838a-f2ca-473b-992b-2577ae48cd6f"
      },
      "source": [
        "#numpy library\n",
        "import numpy as np\n",
        "\n",
        "print(np.pi)\n",
        "print(np.e)\n",
        "\n",
        "print()\n",
        "\n",
        "print(np.sin(np.pi))\n",
        "print(np.cos(np.pi))\n",
        "print(np.tan(np.pi))"
      ],
      "execution_count": null,
      "outputs": [
        {
          "output_type": "stream",
          "name": "stdout",
          "text": [
            "3.141592653589793\n",
            "2.718281828459045\n",
            "\n",
            "1.2246467991473532e-16\n",
            "-1.0\n",
            "-1.2246467991473532e-16\n"
          ]
        }
      ]
    },
    {
      "cell_type": "code",
      "metadata": {
        "colab": {
          "base_uri": "https://localhost:8080/"
        },
        "id": "Br7QJaK4hUbz",
        "outputId": "fe985edb-bd7c-4f27-ce9d-daa77bce2a80"
      },
      "source": [
        "#lists\n",
        "a = [1,2,3,4,5]\n",
        "print(a)\n",
        "\n",
        "print()\n",
        "\n",
        "b = [6,7,8,9]\n",
        "print(b)\n",
        "\n",
        "print()\n",
        "\n",
        "b.append(0)\n",
        "print(b)\n",
        "\n",
        "print()\n",
        "\n",
        "print(a+b)\n",
        "\n",
        "print()\n",
        "\n",
        "print(np.sum(a))\n",
        "print(np.sum(b))\n",
        "print(np.sum(a+b))\n",
        "\n",
        "print()\n",
        "\n",
        "print(np.add(a,b))\n",
        "print(np.dot(a,b))\n",
        "\n",
        "print()\n",
        "\n",
        "for i in a:\n",
        "  print(i)\n",
        "for i in b:\n",
        "  print(i)"
      ],
      "execution_count": 110,
      "outputs": [
        {
          "output_type": "stream",
          "name": "stdout",
          "text": [
            "[1, 2, 3, 4, 5]\n",
            "\n",
            "[6, 7, 8, 9]\n",
            "\n",
            "[6, 7, 8, 9, 0]\n",
            "\n",
            "[1, 2, 3, 4, 5, 6, 7, 8, 9, 0]\n",
            "\n",
            "15\n",
            "30\n",
            "45\n",
            "\n",
            "[ 7  9 11 13  5]\n",
            "80\n",
            "\n",
            "1\n",
            "2\n",
            "3\n",
            "4\n",
            "5\n",
            "6\n",
            "7\n",
            "8\n",
            "9\n",
            "0\n"
          ]
        }
      ]
    },
    {
      "cell_type": "code",
      "metadata": {
        "id": "yI5zF76vkc2z",
        "colab": {
          "base_uri": "https://localhost:8080/"
        },
        "outputId": "c7d89907-e7bd-4f91-9a32-f6cbf677ef72"
      },
      "source": [
        "#format()\n",
        "print(\"{0} is {1}! {2} is also pretty {3}.\".format(\"String formatting\", \"awesome\", \"Python\", \"cool\"))"
      ],
      "execution_count": 92,
      "outputs": [
        {
          "output_type": "stream",
          "name": "stdout",
          "text": [
            "awesome is String formatting! Python is also pretty cool.\n"
          ]
        }
      ]
    },
    {
      "cell_type": "code",
      "metadata": {
        "colab": {
          "base_uri": "https://localhost:8080/"
        },
        "id": "x-vbUAN0tJsR",
        "outputId": "ed1ef6ac-6b4e-4aa8-fb7c-63b04497f065"
      },
      "source": [
        "#Dictionaries\n",
        "a={\"One\":1,\"Two\":2,\"Three\":3}\n",
        "print(a)\n",
        "\n",
        "print()\n",
        "\n",
        "b={1:\"One\",2:\"Two\",3:\"Three\"}\n",
        "print(b)\n",
        "\n",
        "print()\n",
        "\n",
        "print(a[\"One\"])\n",
        "a[\"One\"] = 2\n",
        "print(a[\"One\"])\n",
        "a[\"One\"] = 1\n",
        "print(a[\"One\"])\n",
        "\n",
        "print()\n",
        "\n",
        "for x in a.keys():\n",
        "  print(\"The number version of {0} is {1}.\".format(x, a[x]))\n",
        "print()\n",
        "for x in b.keys():\n",
        "  print(\"The word for {0} is {1}.\".format(x, b[x]))\n",
        "\n",
        "print()\n",
        "\n",
        "for x in sorted(a):\n",
        "  print(\"{0}     {1}\".format(x, a[x]))\n",
        "print()\n",
        "for x in sorted(b):\n",
        "  print(\"{0}     {1}\".format(x, b[x]))"
      ],
      "execution_count": 71,
      "outputs": [
        {
          "output_type": "stream",
          "name": "stdout",
          "text": [
            "{'One': 1, 'Two': 2, 'Three': 3}\n",
            "\n",
            "{1: 'One', 2: 'Two', 3: 'Three'}\n",
            "\n",
            "1\n",
            "2\n",
            "1\n",
            "\n",
            "The number version of One is 1.\n",
            "The number version of Two is 2.\n",
            "The number version of Three is 3.\n",
            "\n",
            "The word for 1 is One.\n",
            "The word for 2 is Two.\n",
            "The word for 3 is Three.\n",
            "\n",
            "One     1\n",
            "Three     3\n",
            "Two     2\n",
            "\n",
            "1     One\n",
            "2     Two\n",
            "3     Three\n"
          ]
        }
      ]
    },
    {
      "cell_type": "code",
      "metadata": {
        "colab": {
          "base_uri": "https://localhost:8080/",
          "height": 295
        },
        "id": "U-GXEFzJtm9C",
        "outputId": "d4bcebe3-44ac-44ad-eb71-7294fe3ed03b"
      },
      "source": [
        "#matplotlib library #1\n",
        "%matplotlib inline\n",
        "\n",
        "import matplotlib.pyplot as plt\n",
        "import numpy as np\n",
        "\n",
        "x=np.linspace(0,10)\n",
        "a=np.sin(x)\n",
        "b=np.cos(x)\n",
        "\n",
        "plt.plot(x,a,'b',x,b,'r')\n",
        "plt.xlabel('Radians')\n",
        "plt.ylabel('Value')\n",
        "plt.title('Plotting Demonstration')\n",
        "plt.legend(['sin(x)','cos(x)'])\n",
        "plt.grid()"
      ],
      "execution_count": 111,
      "outputs": [
        {
          "output_type": "display_data",
          "data": {
            "image/png": "[encoded data removed]",
            "text/plain": [
              "<Figure size 432x288 with 1 Axes>"
            ]
          },
          "metadata": {
            "needs_background": "light"
          }
        }
      ]
    },
    {
      "cell_type": "code",
      "metadata": {
        "colab": {
          "base_uri": "https://localhost:8080/",
          "height": 265
        },
        "id": "OBxbJipe648s",
        "outputId": "5fc8994a-9bc1-41b7-9804-9449949813a2"
      },
      "source": [
        "#matplotlib Library #2\n",
        "plt.plot(a,b)\n",
        "plt.axis('equal')\n",
        "plt.grid()"
      ],
      "execution_count": 113,
      "outputs": [
        {
          "output_type": "display_data",
          "data": {
            "image/png": "[encoded data removed]",
            "text/plain": [
              "<Figure size 432x288 with 1 Axes>"
            ]
          },
          "metadata": {
            "needs_background": "light"
          }
        }
      ]
    },
    {
      "cell_type": "code",
      "metadata": {
        "colab": {
          "base_uri": "https://localhost:8080/",
          "height": 281
        },
        "id": "DfwlDdka7BKP",
        "outputId": "6399d753-9227-44f6-db11-e8aa33f7fefe"
      },
      "source": [
        "#matplotlib Library #3\n",
        "plt.subplot(2,1,1)\n",
        "plt.plot(x,a)\n",
        "plt.title('sin(x)')\n",
        "plt.grid()\n",
        "\n",
        "plt.subplot(2,1,2)\n",
        "plt.plot(x,b)\n",
        "plt.title('cos(x)')\n",
        "plt.grid()"
      ],
      "execution_count": 114,
      "outputs": [
        {
          "output_type": "display_data",
          "data": {
            "image/png": "[encoded data removed]",
            "text/plain": [
              "<Figure size 432x288 with 2 Axes>"
            ]
          },
          "metadata": {
            "needs_background": "light"
          }
        }
      ]
    }
  ]
}
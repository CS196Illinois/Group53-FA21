{
  "nbformat": 4,
  "nbformat_minor": 0,
  "metadata": {
    "colab": {
      "name": "Google Calendar API.ipynb",
      "provenance": [],
      "collapsed_sections": []
    },
    "kernelspec": {
      "display_name": "Python 3",
      "name": "python3"
    },
    "language_info": {
      "name": "python"
    }
  },
  "cells": [
    {
      "cell_type": "code",
      "metadata": {
        "colab": {
          "base_uri": "https://localhost:8080/"
        },
        "id": "5z7uSjHt4opC",
        "outputId": "1ac66d67-28f5-4317-8ea4-8e364a8aff18"
      },
      "source": [
        "!pip install google_auth_oauthlib.flow"
      ],
      "execution_count": 1,
      "outputs": [
        {
          "output_type": "stream",
          "name": "stdout",
          "text": [
            "\u001b[31mERROR: Could not find a version that satisfies the requirement google_auth_oauthlib.flow (from versions: none)\u001b[0m\n",
            "\u001b[31mERROR: No matching distribution found for google_auth_oauthlib.flow\u001b[0m\n"
          ]
        }
      ]
    },
    {
      "cell_type": "code",
      "metadata": {
        "id": "dxDr0R0u4J9O"
      },
      "source": [
        "from apiclient.discovery import build\n",
        "from google_auth_oauthlib.flow import InstalledAppFlow\n",
        "# from google_auth_oauthlib.flow import Flow"
      ],
      "execution_count": 2,
      "outputs": []
    },
    {
      "cell_type": "code",
      "metadata": {
        "id": "gvWkb7KX4pzz"
      },
      "source": [
        "import pickle"
      ],
      "execution_count": 3,
      "outputs": []
    },
    {
      "cell_type": "code",
      "metadata": {
        "id": "OHD2pHWK4N3Q"
      },
      "source": [
        "scopes = ['https://www.googleapis.com/auth/calendar']\n",
        "client_secret = \"/content/client_secret_605160043145-bhf4u5e6q0t1re1dri2afdvb26dtjlde.apps.googleusercontent.com.json\"\n",
        "flow = InstalledAppFlow.from_client_secrets_file(client_secret, scopes=scopes)"
      ],
      "execution_count": 5,
      "outputs": []
    },
    {
      "cell_type": "code",
      "metadata": {
        "colab": {
          "base_uri": "https://localhost:8080/"
        },
        "id": "PH2wHbL4sA9n",
        "outputId": "cd7579ac-d50d-482d-df6c-8d149ce30b93"
      },
      "source": [
        "from google.colab import drive\n",
        "drive.mount('/content/drive')"
      ],
      "execution_count": 6,
      "outputs": [
        {
          "output_type": "stream",
          "name": "stdout",
          "text": [
            "Mounted at /content/drive\n"
          ]
        }
      ]
    },
    {
      "cell_type": "code",
      "metadata": {
        "colab": {
          "base_uri": "https://localhost:8080/"
        },
        "id": "RgrmcS7B4hFP",
        "outputId": "d9033e2b-bee6-484a-d2d8-10592f1f6e5a"
      },
      "source": [
        "credentials = flow.run_console()"
      ],
      "execution_count": 7,
      "outputs": [
        {
          "name": "stdout",
          "output_type": "stream",
          "text": [
            "Please visit this URL to authorize this application: https://accounts.google.com/o/oauth2/auth?response_type=code&client_id=605160043145-bhf4u5e6q0t1re1dri2afdvb26dtjlde.apps.googleusercontent.com&redirect_uri=urn%3Aietf%3Awg%3Aoauth%3A2.0%3Aoob&scope=https%3A%2F%2Fwww.googleapis.com%2Fauth%2Fcalendar&state=mx2WaF5p6W2Yo2TvwIdSQaObJ3F7Ze&prompt=consent&access_type=offline\n",
            "Enter the authorization code: 4/1AX4XfWhBF47sMdRb_yCGKlv-lsIDMvjwRJ4bMAxKN_39RQfNso_LPaqFtd4\n"
          ]
        }
      ]
    },
    {
      "cell_type": "code",
      "metadata": {
        "id": "Tl8nyhk66Gal"
      },
      "source": [
        "pickle.dump(credentials, open(\"token.pkl\", \"wb\"))"
      ],
      "execution_count": 8,
      "outputs": []
    },
    {
      "cell_type": "code",
      "metadata": {
        "id": "m-h_aZWW6JIv"
      },
      "source": [
        "credentials = pickle.load(open(\"token.pkl\", \"rb\"))"
      ],
      "execution_count": 9,
      "outputs": []
    },
    {
      "cell_type": "code",
      "metadata": {
        "id": "h3h2Z18p6KtD"
      },
      "source": [
        "service = build(\"calendar\", \"v3\", credentials=credentials)"
      ],
      "execution_count": 10,
      "outputs": []
    },
    {
      "cell_type": "code",
      "metadata": {
        "id": "60Cc_idA6NjL"
      },
      "source": [
        "result = service.calendarList().list().execute()"
      ],
      "execution_count": 23,
      "outputs": []
    },
    {
      "cell_type": "code",
      "metadata": {
        "id": "LcDruhKv-cDD"
      },
      "source": [
        "result['items']"
      ],
      "execution_count": null,
      "outputs": []
    },
    {
      "cell_type": "code",
      "metadata": {
        "id": "negS4OqyNp_F"
      },
      "source": [
        "# Getting Calendars\n",
        "page_token = None\n",
        "while True:\n",
        "  calendar_list = service.calendarList().list(pageToken=page_token).execute()\n",
        "  for calendar_list_entry in calendar_list['items']:\n",
        "    print(calendar_list_entry['summary'])\n",
        "  page_token = calendar_list.get('nextPageToken')\n",
        "  if not page_token:\n",
        "    break"
      ],
      "execution_count": null,
      "outputs": []
    },
    {
      "cell_type": "code",
      "metadata": {
        "id": "ZpX8x8tfFJTB"
      },
      "source": [
        "# Get My Calendar Events\n",
        "calendar_id = result['items'][0]['id']\n",
        "result = service.events().list(calendarId=\"cannibalpizzatv@gmail.com\", timeZone=\"America/Chicago\").execute()\n",
        "result['items'][0]"
      ],
      "execution_count": null,
      "outputs": []
    },
    {
      "cell_type": "code",
      "metadata": {
        "id": "52Agqx8zEQuG"
      },
      "source": [
        "# Creating a New Calendar Event\n",
        "from datetime import datetime, timedelta\n",
        "\n",
        "start_time = datetime(2021, 10, 30, 19, 30, 0)\n",
        "end_time = start_time + timedelta(hours=0.5)\n",
        "timezone = 'America/Chicago'\n",
        "\n",
        "event = {\n",
        "  'summary': 'Eat',\n",
        "  'location': 'Blaisdell Hall',\n",
        "  'description': 'Go eat',\n",
        "  'start': {\n",
        "    'dateTime': start_time.strftime(\"%Y-%m-%dT%H:%M:%S\"),\n",
        "    'timeZone': timezone,\n",
        "  },\n",
        "  'end': {\n",
        "    'dateTime': end_time.strftime(\"%Y-%m-%dT%H:%M:%S\"),\n",
        "    'timeZone': timezone,\n",
        "  },\n",
        "  'reminders': {\n",
        "    'useDefault': True,\n",
        "  },\n",
        "}\n",
        "\n",
        "service.events().insert(calendarId=\"cannibalpizzatv@gmail.com\", body=event).execute()"
      ],
      "execution_count": null,
      "outputs": []
    },
    {
      "cell_type": "code",
      "metadata": {
        "id": "Dnv7x9UFGTOh"
      },
      "source": [
        "# Deleting an Event\n",
        "service.events().delete(calendarId='cannibalpizzatv@gmail.com', eventId='0n1thqitv9ft0h2a7g7411i4bg').execute()"
      ],
      "execution_count": null,
      "outputs": []
    },
    {
      "cell_type": "code",
      "metadata": {
        "id": "Vx-aAAWyP5a1"
      },
      "source": [
        "# Query\n",
        "{\n",
        "  \"timeMin\": datetime,\n",
        "  \"timeMax\": datetime,\n",
        "  \"timeZone\": string,\n",
        "  \"groupExpansionMax\": integer,\n",
        "  \"calendarExpansionMax\": integer,\n",
        "  \"items\": [\n",
        "    {\n",
        "      \"id\": string\n",
        "    }\n",
        "  ]\n",
        "}"
      ],
      "execution_count": null,
      "outputs": []
    }
  ]
}
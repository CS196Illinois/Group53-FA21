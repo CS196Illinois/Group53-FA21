{
  "nbformat": 4,
  "nbformat_minor": 0,
  "metadata": {
    "colab": {
      "name": "Sprint 1",
      "provenance": [],
      "collapsed_sections": []
    },
    "kernelspec": {
      "name": "python3",
      "display_name": "Python 3"
    },
    "language_info": {
      "name": "python"
    }
  },
  "cells": [
    {
      "cell_type": "markdown",
      "metadata": {
        "id": "Q3nX5WZZ3N0N"
      },
      "source": [
        "\n",
        "\n",
        "*   There's no need to declare a variable type\n",
        "*   Underscores represent spaces\n",
        "\n",
        "*   \"print\" instead of \"println\"\n",
        "*   A list can hold different kinds of data\n",
        "\n",
        "*   Tuples use \"()\" while lists use \"[]\"\n",
        "*   Tuples cannot be modified\n",
        "\n",
        "*   Addition, Subtraction, Multiplication, Division, Remainder work the same as in kotlin\n",
        "*   Imports work the same, and all calculator functions can be imported in through \"import math\" - graphs can also be made\n",
        "\n",
        "*   len() represents the length of an item\n",
        "\n",
        "*   For loops require \"in range(,)\" if there is a start and end\n",
        "*   Exponents are done with \"**\"\n",
        "\n",
        "*   numpy is a convenient math library\n",
        "*   Don't need to print to post contents of a list\n",
        "\n",
        "*   Dictionaries are the same as maps (formatted like {'s': 32})\n",
        "*   Ex. for species in mw.keys():\n",
        "\n",
        "    print(\"The molar mass of {:<s} is {:<7.2f}\".format(species, mw[species]))\n",
        "\n",
        "\n",
        "\n",
        "\n",
        "\n",
        "\n",
        "\n",
        "\n",
        "\n",
        "\n",
        "\n",
        "\n",
        "\n",
        "\n",
        "\n",
        "\n"
      ]
    }
  ]
}
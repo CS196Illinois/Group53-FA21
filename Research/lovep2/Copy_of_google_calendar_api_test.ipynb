{
  "nbformat": 4,
  "nbformat_minor": 0,
  "metadata": {
    "colab": {
      "name": "Copy of google-calendar-api_test.ipynb",
      "provenance": [],
      "collapsed_sections": []
    },
    "kernelspec": {
      "display_name": "Python 3",
      "name": "python3"
    },
    "language_info": {
      "name": "python"
    }
  },
  "cells": [
    {
      "cell_type": "code",
      "metadata": {
        "colab": {
          "base_uri": "https://localhost:8080/"
        },
        "id": "5z7uSjHt4opC",
        "outputId": "ae01ea1d-c462-4f94-f050-c8e15f289547"
      },
      "source": [
        "!pip install google_auth_oauthlib.flow"
      ],
      "execution_count": 3,
      "outputs": [
        {
          "output_type": "stream",
          "name": "stdout",
          "text": [
            "\u001b[31mERROR: Could not find a version that satisfies the requirement google_auth_oauthlib.flow (from versions: none)\u001b[0m\n",
            "\u001b[31mERROR: No matching distribution found for google_auth_oauthlib.flow\u001b[0m\n"
          ]
        }
      ]
    },
    {
      "cell_type": "code",
      "metadata": {
        "id": "dxDr0R0u4J9O"
      },
      "source": [
        "from apiclient.discovery import build\n",
        "from google_auth_oauthlib.flow import InstalledAppFlow\n",
        "# from google_auth_oauthlib.flow import Flow"
      ],
      "execution_count": 4,
      "outputs": []
    },
    {
      "cell_type": "code",
      "metadata": {
        "id": "gvWkb7KX4pzz"
      },
      "source": [
        "import pickle"
      ],
      "execution_count": 5,
      "outputs": []
    },
    {
      "cell_type": "code",
      "metadata": {
        "id": "OHD2pHWK4N3Q"
      },
      "source": [
        "scopes = ['https://www.googleapis.com/auth/calendar']\n",
        "client_secret = \"//content/client_secret_605160043145-bhf4u5e6q0t1re1dri2afdvb26dtjlde.apps.googleusercontent.com.json\"\n",
        "flow = InstalledAppFlow.from_client_secrets_file(client_secret, scopes=scopes)"
      ],
      "execution_count": 6,
      "outputs": []
    },
    {
      "cell_type": "code",
      "metadata": {
        "colab": {
          "base_uri": "https://localhost:8080/"
        },
        "id": "PH2wHbL4sA9n",
        "outputId": "ef3a44bb-b9f1-4420-b956-2eed3f681e05"
      },
      "source": [
        "from google.colab import drive\n",
        "drive.mount('/content/drive')"
      ],
      "execution_count": 7,
      "outputs": [
        {
          "output_type": "stream",
          "name": "stdout",
          "text": [
            "Mounted at /content/drive\n"
          ]
        }
      ]
    },
    {
      "cell_type": "code",
      "metadata": {
        "colab": {
          "base_uri": "https://localhost:8080/"
        },
        "id": "RgrmcS7B4hFP",
        "outputId": "8c27a3e6-aa34-4bd4-90d8-b78ab2b2a46c"
      },
      "source": [
        "credentials = flow.run_console()"
      ],
      "execution_count": 8,
      "outputs": [
        {
          "name": "stdout",
          "output_type": "stream",
          "text": [
            "Please visit this URL to authorize this application: https://accounts.google.com/o/oauth2/auth?response_type=code&client_id=605160043145-bhf4u5e6q0t1re1dri2afdvb26dtjlde.apps.googleusercontent.com&redirect_uri=urn%3Aietf%3Awg%3Aoauth%3A2.0%3Aoob&scope=https%3A%2F%2Fwww.googleapis.com%2Fauth%2Fcalendar&state=CpDp6Vck1EPMtrzP1kWTF0qH79frKO&prompt=consent&access_type=offline\n",
            "Enter the authorization code: 4/1AX4XfWgWRqQlay-XdNba1Dt5cX9IfpNdzl1ZSbjzY1CB1w_U2lCl9rKxlsk\n"
          ]
        }
      ]
    },
    {
      "cell_type": "code",
      "metadata": {
        "id": "Tl8nyhk66Gal"
      },
      "source": [
        "pickle.dump(credentials, open(\"token.pkl\", \"wb\"))"
      ],
      "execution_count": 9,
      "outputs": []
    },
    {
      "cell_type": "code",
      "metadata": {
        "id": "m-h_aZWW6JIv"
      },
      "source": [
        "credentials = pickle.load(open(\"token.pkl\", \"rb\"))"
      ],
      "execution_count": 10,
      "outputs": []
    },
    {
      "cell_type": "code",
      "metadata": {
        "id": "h3h2Z18p6KtD"
      },
      "source": [
        "service = build(\"calendar\", \"v3\", credentials=credentials)"
      ],
      "execution_count": 11,
      "outputs": []
    },
    {
      "cell_type": "code",
      "metadata": {
        "id": "60Cc_idA6NjL"
      },
      "source": [
        "result = service.calendarList().list().execute()"
      ],
      "execution_count": 12,
      "outputs": []
    },
    {
      "cell_type": "code",
      "metadata": {
        "colab": {
          "base_uri": "https://localhost:8080/"
        },
        "id": "G6WwKiqt-Fv5",
        "outputId": "d9a45a3d-dd7e-4cc5-ab30-11fb7121b2f2"
      },
      "source": [
        "result['items']"
      ],
      "execution_count": 13,
      "outputs": [
        {
          "output_type": "execute_result",
          "data": {
            "text/plain": [
              "[{'accessRole': 'reader',\n",
              "  'backgroundColor': '#92e1c0',\n",
              "  'colorId': '13',\n",
              "  'conferenceProperties': {'allowedConferenceSolutionTypes': ['hangoutsMeet']},\n",
              "  'defaultReminders': [],\n",
              "  'description': 'Displays birthdays, anniversaries, and other event dates of people in Google Contacts.',\n",
              "  'etag': '\"1631687537417000\"',\n",
              "  'foregroundColor': '#000000',\n",
              "  'id': 'addressbook#contacts@group.v.calendar.google.com',\n",
              "  'kind': 'calendar#calendarListEntry',\n",
              "  'summary': 'Birthdays',\n",
              "  'timeZone': 'America/Chicago'},\n",
              " {'accessRole': 'owner',\n",
              "  'backgroundColor': '#9fe1e7',\n",
              "  'colorId': '14',\n",
              "  'conferenceProperties': {'allowedConferenceSolutionTypes': ['hangoutsMeet']},\n",
              "  'defaultReminders': [{'method': 'popup', 'minutes': 30}],\n",
              "  'etag': '\"1635625109009000\"',\n",
              "  'foregroundColor': '#000000',\n",
              "  'id': 'lovepatel326@gmail.com',\n",
              "  'kind': 'calendar#calendarListEntry',\n",
              "  'notificationSettings': {'notifications': [{'method': 'email',\n",
              "     'type': 'eventCreation'},\n",
              "    {'method': 'email', 'type': 'eventChange'},\n",
              "    {'method': 'email', 'type': 'eventCancellation'},\n",
              "    {'method': 'email', 'type': 'eventResponse'}]},\n",
              "  'primary': True,\n",
              "  'selected': True,\n",
              "  'summary': 'Love Patel',\n",
              "  'timeZone': 'America/Chicago'},\n",
              " {'accessRole': 'reader',\n",
              "  'backgroundColor': '#16a765',\n",
              "  'colorId': '8',\n",
              "  'conferenceProperties': {'allowedConferenceSolutionTypes': ['hangoutsMeet']},\n",
              "  'defaultReminders': [],\n",
              "  'description': 'Holidays and Observances in United States',\n",
              "  'etag': '\"1635625118223000\"',\n",
              "  'foregroundColor': '#000000',\n",
              "  'id': 'en.usa#holiday@group.v.calendar.google.com',\n",
              "  'kind': 'calendar#calendarListEntry',\n",
              "  'summary': 'Holidays in United States',\n",
              "  'timeZone': 'America/Chicago'},\n",
              " {'accessRole': 'owner',\n",
              "  'backgroundColor': '#f83a22',\n",
              "  'colorId': '3',\n",
              "  'conferenceProperties': {'allowedConferenceSolutionTypes': ['hangoutsMeet']},\n",
              "  'defaultReminders': [],\n",
              "  'etag': '\"1635625127051000\"',\n",
              "  'foregroundColor': '#000000',\n",
              "  'id': 'heer.p6823@gmail.com',\n",
              "  'kind': 'calendar#calendarListEntry',\n",
              "  'selected': True,\n",
              "  'summary': 'Heer',\n",
              "  'timeZone': 'America/Chicago'},\n",
              " {'accessRole': 'owner',\n",
              "  'backgroundColor': '#42d692',\n",
              "  'colorId': '7',\n",
              "  'conferenceProperties': {'allowedConferenceSolutionTypes': ['hangoutsMeet']},\n",
              "  'defaultReminders': [],\n",
              "  'etag': '\"1635625127954000\"',\n",
              "  'foregroundColor': '#000000',\n",
              "  'id': 'romeodelgado2003@gmail.com',\n",
              "  'kind': 'calendar#calendarListEntry',\n",
              "  'selected': True,\n",
              "  'summary': 'Romeo Delgado',\n",
              "  'timeZone': 'America/Chicago'},\n",
              " {'accessRole': 'reader',\n",
              "  'backgroundColor': '#9fc6e7',\n",
              "  'colorId': '15',\n",
              "  'conferenceProperties': {'allowedConferenceSolutionTypes': ['hangoutsMeet']},\n",
              "  'defaultReminders': [],\n",
              "  'description': 'Calendar with upcoming ACM events',\n",
              "  'etag': '\"1635625129931000\"',\n",
              "  'foregroundColor': '#000000',\n",
              "  'id': 'c_ojf0k5mgqqv945s856vuh0322o@group.calendar.google.com',\n",
              "  'kind': 'calendar#calendarListEntry',\n",
              "  'selected': True,\n",
              "  'summary': 'ACM Calendar',\n",
              "  'timeZone': 'America/Chicago'},\n",
              " {'accessRole': 'reader',\n",
              "  'backgroundColor': '#d06b64',\n",
              "  'colorId': '2',\n",
              "  'conferenceProperties': {'allowedConferenceSolutionTypes': ['hangoutsMeet']},\n",
              "  'defaultReminders': [],\n",
              "  'etag': '\"1635625130921000\"',\n",
              "  'foregroundColor': '#000000',\n",
              "  'id': 'cannibalpizzatv@gmail.com',\n",
              "  'kind': 'calendar#calendarListEntry',\n",
              "  'selected': True,\n",
              "  'summary': 'Alex Vega',\n",
              "  'timeZone': 'America/Chicago'},\n",
              " {'accessRole': 'reader',\n",
              "  'backgroundColor': '#ff7537',\n",
              "  'colorId': '5',\n",
              "  'conferenceProperties': {'allowedConferenceSolutionTypes': ['hangoutsMeet']},\n",
              "  'defaultReminders': [],\n",
              "  'etag': '\"1635625132548000\"',\n",
              "  'foregroundColor': '#000000',\n",
              "  'id': '96l89oc4iab0npg6i0egk5o19g@group.calendar.google.com',\n",
              "  'kind': 'calendar#calendarListEntry',\n",
              "  'selected': True,\n",
              "  'summary': 'Illini VEX Robotics',\n",
              "  'timeZone': 'America/Chicago'}]"
            ]
          },
          "metadata": {},
          "execution_count": 13
        }
      ]
    },
    {
      "cell_type": "code",
      "metadata": {
        "colab": {
          "base_uri": "https://localhost:8080/"
        },
        "id": "-0GEXyU1DfMh",
        "outputId": "7f3912f8-24de-4252-ce6c-d134e7898a41"
      },
      "source": [
        "calendar_id = result['items'][0]['id']\n",
        "result = service.events().list(calendarId='romeodelgado2003@gmail.com', timeZone=\"Asia/Kolkata\").execute()\n",
        "result['items'][54]"
      ],
      "execution_count": 15,
      "outputs": [
        {
          "output_type": "execute_result",
          "data": {
            "text/plain": [
              "{'created': '2021-10-28T21:21:14.000Z',\n",
              " 'creator': {'email': 'lovepatel326@gmail.com'},\n",
              " 'description': 'MI vs TBD',\n",
              " 'end': {'dateTime': '2019-05-12T23:30:00+05:30', 'timeZone': 'Asia/Kolkata'},\n",
              " 'etag': '\"3270912149864000\"',\n",
              " 'eventType': 'default',\n",
              " 'htmlLink': 'https://www.google.com/calendar/event?eid=OWMzNHJ0b2g1ZDJwYjJrc3ZhaDlzaHQ2NzQgcm9tZW9kZWxnYWRvMjAwM0Bt&ctz=Asia/Kolkata',\n",
              " 'iCalUID': '9c34rtoh5d2pb2ksvah9sht674@google.com',\n",
              " 'id': '9c34rtoh5d2pb2ksvah9sht674',\n",
              " 'kind': 'calendar#event',\n",
              " 'location': 'Hyderabad',\n",
              " 'organizer': {'email': 'romeodelgado2003@gmail.com', 'self': True},\n",
              " 'reminders': {'useDefault': True},\n",
              " 'sequence': 0,\n",
              " 'start': {'dateTime': '2019-05-12T19:30:00+05:30',\n",
              "  'timeZone': 'Asia/Kolkata'},\n",
              " 'status': 'confirmed',\n",
              " 'summary': 'IPL Final 2019',\n",
              " 'updated': '2021-10-28T21:21:14.932Z'}"
            ]
          },
          "metadata": {},
          "execution_count": 15
        }
      ]
    },
    {
      "cell_type": "code",
      "metadata": {
        "colab": {
          "base_uri": "https://localhost:8080/"
        },
        "id": "-sitnfDWDNr_",
        "outputId": "06b7edcc-f337-401c-dbd5-4a8da1aa4258"
      },
      "source": [
        "from datetime import datetime, timedelta\n",
        "\n",
        "start_time = datetime(2021, 10, 30, 15, 30, 0)\n",
        "end_time = start_time + timedelta(hours=.75)\n",
        "timezone = 'America/Chicago'\n",
        "\n",
        "event = {\n",
        "  'summary': 'IPL Final 2019',\n",
        "  'location': 'Hyderabad',\n",
        "  'description': 'MI vs TBD',\n",
        "  'start': {\n",
        "    'dateTime': start_time.strftime(\"%Y-%m-%dT%H:%M:%S\"),\n",
        "    'timeZone': timezone,\n",
        "  },\n",
        "  'end': {\n",
        "    'dateTime': end_time.strftime(\"%Y-%m-%dT%H:%M:%S\"),\n",
        "    'timeZone': timezone,\n",
        "  },\n",
        "  'reminders': {\n",
        "    'useDefault': False,\n",
        "    'overrides': [\n",
        "      {'method': 'email', 'minutes': 24 * 60},\n",
        "      {'method': 'popup', 'minutes': 10},\n",
        "    ],\n",
        "  },\n",
        "}\n",
        "\n",
        "service.events().insert(calendarId='romeodelgado2003@gmail.com', body=event).execute()"
      ],
      "execution_count": 35,
      "outputs": [
        {
          "output_type": "execute_result",
          "data": {
            "text/plain": [
              "{'created': '2021-10-30T22:52:30.000Z',\n",
              " 'creator': {'email': 'lovepatel326@gmail.com'},\n",
              " 'description': 'MI vs TBD',\n",
              " 'end': {'dateTime': '2021-10-30T16:15:00-05:00',\n",
              "  'timeZone': 'America/Chicago'},\n",
              " 'etag': '\"3271268700619000\"',\n",
              " 'eventType': 'default',\n",
              " 'htmlLink': 'https://www.google.com/calendar/event?eid=Y3B0cWhzMG8xZXA4NHUyanU3bm91N2UwaW8gcm9tZW9kZWxnYWRvMjAwM0Bt',\n",
              " 'iCalUID': 'cptqhs0o1ep84u2ju7nou7e0io@google.com',\n",
              " 'id': 'cptqhs0o1ep84u2ju7nou7e0io',\n",
              " 'kind': 'calendar#event',\n",
              " 'location': 'Hyderabad',\n",
              " 'organizer': {'email': 'romeodelgado2003@gmail.com', 'self': True},\n",
              " 'reminders': {'overrides': [{'method': 'popup', 'minutes': 10},\n",
              "   {'method': 'email', 'minutes': 1440}],\n",
              "  'useDefault': False},\n",
              " 'sequence': 0,\n",
              " 'start': {'dateTime': '2021-10-30T15:30:00-05:00',\n",
              "  'timeZone': 'America/Chicago'},\n",
              " 'status': 'confirmed',\n",
              " 'summary': 'IPL Final 2019',\n",
              " 'updated': '2021-10-30T22:52:30.354Z'}"
            ]
          },
          "metadata": {},
          "execution_count": 35
        }
      ]
    },
    {
      "cell_type": "code",
      "metadata": {
        "colab": {
          "base_uri": "https://localhost:8080/",
          "height": 35
        },
        "id": "lawKjzuZFATO",
        "outputId": "ff2ed90d-a165-4975-d437-1a8d2dec8cbe"
      },
      "source": [
        "service.events().delete(calendarId='romeodelgado2003@gmail.com', eventId='v12vo3kio2e5cihmge6s3lsob4').execute()"
      ],
      "execution_count": 18,
      "outputs": [
        {
          "output_type": "execute_result",
          "data": {
            "application/vnd.google.colaboratory.intrinsic+json": {
              "type": "string"
            },
            "text/plain": [
              "''"
            ]
          },
          "metadata": {},
          "execution_count": 18
        }
      ]
    },
    {
      "cell_type": "code",
      "metadata": {
        "colab": {
          "base_uri": "https://localhost:8080/"
        },
        "id": "c2FotncNO1qJ",
        "outputId": "628459a4-351f-4ca4-ce45-f82adeeaaef0"
      },
      "source": [
        "page_token = None\n",
        "while True:\n",
        "  calendar_list = service.calendarList().list(pageToken=page_token).execute()\n",
        "  for calendar_list_entry in calendar_list['items']:\n",
        "    print(calendar_list_entry['summary'])\n",
        "  page_token = calendar_list.get('nextPageToken')\n",
        "  if not page_token:\n",
        "    break"
      ],
      "execution_count": 36,
      "outputs": [
        {
          "output_type": "stream",
          "name": "stdout",
          "text": [
            "Birthdays\n",
            "Love Patel\n",
            "Holidays in United States\n",
            "Heer\n",
            "Romeo Delgado\n",
            "ACM Calendar\n",
            "Alex Vega\n",
            "Illini VEX Robotics\n"
          ]
        }
      ]
    },
    {
      "cell_type": "code",
      "metadata": {
        "colab": {
          "base_uri": "https://localhost:8080/"
        },
        "id": "O7cc5IrJP-I0",
        "outputId": "67db949b-bec0-4605-c8f2-b2094e0e104b"
      },
      "source": [
        "{\n",
        "  \"timeMin\": datetime(2021, 11, 1, 4, 0, 0),\n",
        "  \"timeMax\": datetime(2021, 11, 2, 4, 0, 0),\n",
        "  \"timeZone\": 'America/Chicago',\n",
        "  \"groupExpansionMax\": 0,\n",
        "  \"calendarExpansionMax\": 0,\n",
        "  \"items\": [\n",
        "    {\n",
        "      \"id\": \"cannibalpizzatv@gmail.com\"\n",
        "    },\n",
        "    {\n",
        "      \"id\": \"romeodelgado2003@gmail.com\"\n",
        "    },\n",
        "    {\n",
        "      \"id\": \"primary\"\n",
        "    }\n",
        "  ]\n",
        "}"
      ],
      "execution_count": 34,
      "outputs": [
        {
          "output_type": "execute_result",
          "data": {
            "text/plain": [
              "{'calendarExpansionMax': 0,\n",
              " 'groupExpansionMax': 0,\n",
              " 'items': [{'id': 'cannibalpizzatv@gmail.com'},\n",
              "  {'id': 'romeodelgado2003@gmail.com'},\n",
              "  {'id': 'primary'}],\n",
              " 'timeMax': datetime.datetime(2021, 11, 2, 4, 0),\n",
              " 'timeMin': datetime.datetime(2021, 11, 1, 4, 0),\n",
              " 'timeZone': 'America/Chicago'}"
            ]
          },
          "metadata": {},
          "execution_count": 34
        }
      ]
    }
  ]
}
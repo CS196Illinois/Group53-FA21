{
  "nbformat": 4,
  "nbformat_minor": 0,
  "metadata": {
    "colab": {
      "name": "Learning python.ipynb",
      "provenance": []
    },
    "kernelspec": {
      "name": "python3",
      "display_name": "Python 3"
    },
    "language_info": {
      "name": "python"
    }
  },
  "cells": [
    {
      "cell_type": "code",
      "metadata": {
        "colab": {
          "base_uri": "https://localhost:8080/"
        },
        "id": "uXbsSmQooMvJ",
        "outputId": "5ffec2ce-990d-434c-d136-fb31a668b1d3"
      },
      "source": [
        "a=12.0\n",
        "b=9\n",
        "\n",
        "print(a+b)\n",
        "print(a**b) #This is the syntac for exponentiation\n",
        "print(a/b)\n",
        "a+=2\n",
        "\n",
        "#a++ = invalid syntax\n",
        "\n",
        "print(a+b)"
      ],
      "execution_count": 12,
      "outputs": [
        {
          "output_type": "stream",
          "name": "stdout",
          "text": [
            "21.0\n",
            "5159780352.0\n",
            "1.3333333333333333\n",
            "23.0\n"
          ]
        }
      ]
    },
    {
      "cell_type": "code",
      "metadata": {
        "colab": {
          "base_uri": "https://localhost:8080/"
        },
        "id": "Bah6dNYcuMl4",
        "outputId": "f1de48f7-f078-4b1e-efd4-935584bff843"
      },
      "source": [
        "import numpy as np\n",
        "\n",
        "print(np.pi)\n",
        "print(np.e)\n",
        "\n",
        "angle = np.pi/4\n",
        "print(np.sin(angle))\n",
        "print(np.cos(angle))\n",
        "print(np.tan(angle))"
      ],
      "execution_count": 13,
      "outputs": [
        {
          "output_type": "stream",
          "name": "stdout",
          "text": [
            "3.141592653589793\n",
            "2.718281828459045\n",
            "0.7071067811865475\n",
            "0.7071067811865476\n",
            "0.9999999999999999\n"
          ]
        }
      ]
    },
    {
      "cell_type": "code",
      "metadata": {
        "colab": {
          "base_uri": "https://localhost:8080/"
        },
        "id": "aNG80UOwvcx8",
        "outputId": "abe557e6-16b1-48d9-caac-9b38b77dd251"
      },
      "source": [
        "xList = [1, 2, 3, 4]\n",
        "#printing lists can be done both ways as shown below if initalizing one list\n",
        "print(xList)\n",
        "xList\n",
        "\n",
        "#accessing each index \n",
        "#cannot do xList[the index] to print each individual index\n",
        "print(xList[0])\n",
        "print(xList[1])\n",
        "print(xList[2])\n",
        "print(xList[3])\n",
        "# index out of range = xList[4]\n",
        "\n",
        "#iterating through a "
      ],
      "execution_count": 21,
      "outputs": [
        {
          "output_type": "stream",
          "name": "stdout",
          "text": [
            "[1, 2, 3, 4]\n",
            "1\n",
            "2\n",
            "3\n",
            "4\n"
          ]
        }
      ]
    }
  ]
}